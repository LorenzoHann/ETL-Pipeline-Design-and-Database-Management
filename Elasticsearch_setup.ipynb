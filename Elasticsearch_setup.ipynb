{
 "cells": [
  {
   "cell_type": "code",
   "execution_count": null,
   "id": "dcaf5f68",
   "metadata": {},
   "outputs": [],
   "source": [
    "#!pip3 install -U elasticsearch\n",
    "#!pip3 install -U elasticsearch-dsl"
   ]
  },
  {
   "cell_type": "code",
   "execution_count": 1,
   "id": "ecde6da6",
   "metadata": {},
   "outputs": [],
   "source": [
    "from elasticsearch import Elasticsearch, helpers\n",
    "client = Elasticsearch(hosts=[\"localhost\"],\n",
    "                     port=9200)"
   ]
  },
  {
   "cell_type": "code",
   "execution_count": 3,
   "id": "16968f62",
   "metadata": {},
   "outputs": [],
   "source": [
    "from elasticsearch.helpers import bulk\n",
    "import csv\n",
    "with open(\"311_Service_Requests.csv\") as f:\n",
    "    reader = csv.DictReader(f)\n",
    "    helpers.bulk(client, reader, index=\"services\")"
   ]
  },
  {
   "cell_type": "markdown",
   "id": "e7b703f2",
   "metadata": {},
   "source": [
    "#### In case you need to delete indices and reload it"
   ]
  },
  {
   "cell_type": "code",
   "execution_count": null,
   "id": "8d6b1aa1",
   "metadata": {},
   "outputs": [],
   "source": [
    "# client.indices.delete(index='services')"
   ]
  }
 ],
 "metadata": {
  "kernelspec": {
   "display_name": "Python 3 (ipykernel)",
   "language": "python",
   "name": "python3"
  },
  "language_info": {
   "codemirror_mode": {
    "name": "ipython",
    "version": 3
   },
   "file_extension": ".py",
   "mimetype": "text/x-python",
   "name": "python",
   "nbconvert_exporter": "python",
   "pygments_lexer": "ipython3",
   "version": "3.10.1"
  }
 },
 "nbformat": 4,
 "nbformat_minor": 5
}
